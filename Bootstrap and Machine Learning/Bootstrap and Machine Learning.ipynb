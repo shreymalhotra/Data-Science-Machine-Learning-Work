{
 "cells": [
  {
   "cell_type": "markdown",
   "metadata": {},
   "source": [
    "# Homework 4: The Bootstrap\n",
    "\n",
    "## Introduction\n",
    "\n",
    "In this homework, we will examine the bootstrap in greater detail. One focus is to solidify the two basic concepts behind the bootstrap:\n",
    "\n",
    "1. Use the sample as the bootstrap population. We can find the sampling distribution of the statistic of interest, when the sampling from the bootstrap population.\n",
    "1. Use the Monte Carlo method to approximate the sampling distribution of the bootstrap statistic.  That is, draw thousands of samples from the bootstrap population, calculate the\n",
    "statistic for each bootstrap sample, and use the distribution of these bootstrap statistics to approximate the actual sampling distribution of the bootstrap statistic.\n",
    "\n",
    "The second focus of this homework is on variants on the standard bootstrap that improve the bootstrap in cases where the sample is highly skewed or when the data are not from a simple random sample. \n",
    " \n",
    "This homework has the following tasks: \n",
    "\n",
    "* Develop a functional approach to bootstrapping any statistic for any sample\n",
    "* Derive the exact bootstrap distribution of a statistic for a small sample\n",
    "* Compare confidence intervals based on the *t*-distribution to those where the sample SD is replaced with bootstrapped SD. \n",
    "* Investigate the studentized bootstrap method, which is used when the sample has a skewed distribution \n",
    "* Explore how to bootstrap data that have been collected via a random sampling scheme other than the simple random sample."
   ]
  },
  {
   "cell_type": "code",
   "execution_count": 3,
   "metadata": {},
   "outputs": [
    {
     "name": "stdout",
     "output_type": "stream",
     "text": [
      "=====================================================================\n",
      "Assignment: Homework 4\n",
      "OK, version v1.13.4\n",
      "=====================================================================\n",
      "\n"
     ]
    }
   ],
   "source": [
    "# Run this cell to set up your notebook\n",
    "\n",
    "import seaborn as sns\n",
    "import csv\n",
    "import numpy as np\n",
    "import pandas as pd\n",
    "import matplotlib.pyplot as plt\n",
    "%matplotlib inline\n",
    "sns.set()\n",
    "\n",
    "from IPython.display import display, Latex, Markdown\n",
    "from client.api.notebook import Notebook\n",
    "ok = Notebook('hw4.ok')\n"
   ]
  },
  {
   "cell_type": "code",
   "execution_count": 5,
   "metadata": {},
   "outputs": [
    {
     "name": "stdout",
     "output_type": "stream",
     "text": [
      "\n",
      "Open the following URL:\n",
      "\n",
      "https://okpy.org/client/login/\n",
      "\n",
      "After logging in, copy the code from the web page and paste it into the box.\n",
      "Then press the \"Enter\" key on your keyboard.\n",
      "\n",
      "Paste your code here: zhbz4bYpRnVb7jrbpgKRGeIObGe0rQ\n",
      "Successfully logged in as shrey@berkeley.edu\n"
     ]
    }
   ],
   "source": [
    "ok.auth(force=True) # Change False to True if you are getting errors authenticating"
   ]
  },
  {
   "cell_type": "markdown",
   "metadata": {},
   "source": [
    "## The Bootstrap Procedure\n",
    "\n",
    "The plain-vanilla bootstrap is a very simple process: \n",
    "* Sample with replacement from the original sample (now the bootstrap population). These samples are called *bootstrap samples*. We typically take thousands of bootstrap samples (~10,000 is common).\n",
    "* Calculate the statistic of interest for each bootstrap sample. This statistic is called the *bootstrap statistic*, and the empirical distribution of these bootstrap statistics is an approximation to the *sampling distribution* of the bootstrapped statistic.\n",
    "\n",
    "Your task is to write a generic boostrap procedure. "
   ]
  },
  {
   "cell_type": "markdown",
   "metadata": {},
   "source": [
    "### Question 1\n",
    "\n",
    "#### Question 1a\n",
    "\n",
    "First, write your own sampling function. The function `simple_resample` samples with replacement from the integers 0 through *n-1* and returns an array of length *n*\n",
    "with the sampled integers. That is, `simple_resample` produces the indices for\n",
    "a single bootstrap replicate from the bootstrap population.\n",
    "\n",
    "Use the *numpy.random* function *randint* to do the random sampling. \n"
   ]
  },
  {
   "cell_type": "code",
   "execution_count": null,
   "metadata": {
    "collapsed": true,
    "tags": [
     "student"
    ]
   },
   "outputs": [],
   "source": [
    "# given:  n, an integer\n",
    "# return: an array of length n of a random sample with replacement of\n",
    "#         the integers 0, 1, ..., n-1 \n",
    "def simple_resample(n):\n",
    "    return(...)"
   ]
  },
  {
   "cell_type": "markdown",
   "metadata": {},
   "source": [
    "Try your `simple_resample` function on a few cases to see if the sampling looks right."
   ]
  },
  {
   "cell_type": "code",
   "execution_count": null,
   "metadata": {
    "collapsed": true,
    "tags": [
     "student"
    ]
   },
   "outputs": [],
   "source": [
    "simple_resample(10)"
   ]
  },
  {
   "cell_type": "code",
   "execution_count": null,
   "metadata": {
    "collapsed": true,
    "scrolled": true,
    "tags": [
     "test",
     "q01a"
    ]
   },
   "outputs": [],
   "source": [
    "_ = ok.grade('q01a')\n",
    "_ = ok.backup()"
   ]
  },
  {
   "cell_type": "markdown",
   "metadata": {},
   "source": [
    "#### Question 1b\n",
    "\n",
    "Next write the function `bootstrap` which returns an array of length `replicates`, each entry being the `statistic` of interest computed on a bootstrap `resample` of the `boot_pop` (bootstrap population)."
   ]
  },
  {
   "cell_type": "code",
   "execution_count": null,
   "metadata": {
    "collapsed": true,
    "tags": [
     "student"
    ]
   },
   "outputs": [],
   "source": [
    "# given:  boot_pop, an array of shape n x d,\n",
    "#         statistic, a function which takes boot_pop and returns a number,\n",
    "#         resample, a function which takes n and returns a random sample from the integers [0, n)\n",
    "#         replicates, the number of resamples \n",
    "# return: an array of length replicates, each\n",
    "#          entry being the statistic computed\n",
    "#          on a bootstrap sample of the data.\n",
    "def bootstrap(boot_pop, statistic, resample, replicates = 10000):\n",
    "    return(...)\n"
   ]
  },
  {
   "cell_type": "code",
   "execution_count": null,
   "metadata": {
    "collapsed": true,
    "tags": [
     "test",
     "q01b"
    ]
   },
   "outputs": [],
   "source": [
    "_ = ok.grade('q01b')\n",
    "_ = ok.backup()"
   ]
  },
  {
   "cell_type": "markdown",
   "metadata": {},
   "source": [
    "## The Exact Bootstrap Sampling Distribution\n",
    "\n",
    "Recall the two notions in the bootstrap procedure\n",
    "1. Use the sample as the bootstrap population\n",
    "1. Use the Monte Carlo method to approximate the sampling distribution of the bootstrap statistic\n",
    "\n",
    "There are two approximations happening here. The first is the approximation of the true population by the bootstrap population (i.e., the sample). The second is the approximation of the sampling distribution of the statistic by simulation. It is the first approximation that is the main idea behind the bootsrap. \n",
    "\n",
    "In fact, when the dataset is small, we don't need the simulation. We can find the exact distribution of the bootstrap statistic.  \n",
    "\n",
    "For example, the _tiny_ dataset in `cornea_diffs` below contains records of $n=7$ glaucoma patients with one affected eye (this data was collected in the 1970s by N. Ehlers). The array contains the difference in corneal thickness between affected and unaffected eyes. The sample mean is approximately $5.14$ microns.\n"
   ]
  },
  {
   "cell_type": "code",
   "execution_count": null,
   "metadata": {
    "collapsed": true
   },
   "outputs": [],
   "source": [
    "cornea_diffs = np.array([-4, 0, 12, 18, -12, 6, 16]) \n",
    "sample_mean  = np.mean(cornea_diffs)"
   ]
  },
  {
   "cell_type": "markdown",
   "metadata": {},
   "source": [
    "### Question 2\n",
    "\n",
    "The typical bootstrap would have us randomly sample with replacement from `cornea_diffs` and calculate the mean many times. We then use the simulated bootstrapped distribution of the sample mean to assess accuracy of the estimate for the population mean, e.g., by constructing a confidence interval. \n",
    "\n",
    "However, since this dataset is so small, we can instead enumerate all possible samples from the bootstrap population--all $7^7$ possible ways of sampling with replacement."
   ]
  },
  {
   "cell_type": "markdown",
   "metadata": {},
   "source": [
    "#### Question 2a\n",
    "\n",
    "Create a numpy array called `exact_bootstrap` of length $7^7$ containing the means of all possible bootstrap samples. \n",
    "\n",
    "You may find the function `itertools.product` useful."
   ]
  },
  {
   "cell_type": "code",
   "execution_count": null,
   "metadata": {
    "collapsed": true,
    "tags": [
     "student"
    ]
   },
   "outputs": [],
   "source": [
    "import itertools\n",
    "\n",
    "exact_bootstrap = ..."
   ]
  },
  {
   "cell_type": "code",
   "execution_count": null,
   "metadata": {
    "collapsed": true,
    "tags": [
     "test",
     "q02a"
    ]
   },
   "outputs": [],
   "source": [
    "_ = ok.grade('q02a')\n",
    "_ = ok.backup()"
   ]
  },
  {
   "cell_type": "markdown",
   "metadata": {},
   "source": [
    "#### Question 2b\n",
    "\n",
    "Let's compare the exact bootstrap distribution of the sample mean to a simulated distribution.\n",
    "\n",
    "Use your `bootstrap` function to perform the traditional bootstrap with $10000$ replicates.\n",
    "\n",
    "Make two histograms to compare the exact and simulated distributions. To do this,\n",
    "create a figure with two subplots. On the first subplot, show the histogram of the means calculated in part 2a. On the second subplot, show a histogram of $10000$ simulated bootstrapped means. On both subplots, include a vertical line denoting the sample mean."
   ]
  },
  {
   "cell_type": "code",
   "execution_count": null,
   "metadata": {
    "collapsed": true,
    "tags": [
     "student"
    ]
   },
   "outputs": [],
   "source": [
    "typical_bootstrap = bootstrap(cornea_diffs, np.mean, simple_resample)\n",
    "\n",
    "# create figure here!\n",
    "plt.figure(figsize=(16,6))"
   ]
  },
  {
   "cell_type": "markdown",
   "metadata": {},
   "source": [
    "Often a better way to compare distributions is with a quantile-quantile plot, where we plot the pairs of quantiles from the two distributions. Deviations from a line indicate differences in the two distributions.\n",
    "\n",
    "Find the 499 evenly-spaced quantiles for each distribution: 0.002, 0.004, 0.006, ..., 0.998 quantiles. Make a scatter plot from the 499 pairs of these quantiles, e.g., (0.002 quantile of `exact_bootstrap`, 0.002 quantile of `typical_bootstrap`)."
   ]
  },
  {
   "cell_type": "code",
   "execution_count": null,
   "metadata": {
    "collapsed": true,
    "tags": [
     "student"
    ]
   },
   "outputs": [],
   "source": [
    "percents = ...\n",
    "quantile_exact = ...\n",
    "quantile_sim = ...\n"
   ]
  },
  {
   "cell_type": "markdown",
   "metadata": {},
   "source": [
    "Notice that the points closely follow a line with slope 1 indicating that the two distribution are very close.  There is some unusual behavior in the scatterplot. There are many small steps along the \"line\".  These are from the discreteness of the two distributions. When one distribution has the same value for several contiguous percentiles and the other distribution does not, then these steps will form. We don't need to worry about these small deviations as long as we are using the simulated distribution at a scale where these differences are negligible. For example, consider constructing a confidence interval for the population mean from the bootstrap distribution."
   ]
  },
  {
   "cell_type": "markdown",
   "metadata": {},
   "source": [
    "#### Question 2c\n",
    "\n",
    "Construct a $95\\%$ bootstrapped confidence interval for the population mean using the exact bootstrap distribution found in part (a). That is, construct a length $2$-tuple called `conf_interval_exact` that contains the 2.5th and 97.5th percentile of the exact bootstrap distribution.\n",
    "\n",
    "Also construct a $95\\%$ bootstrapped confidence interval for the population mean using the typical bootstrap method, i.e., using `typical_bootstrap`.  \n",
    "\n",
    "Compare their left endpoints."
   ]
  },
  {
   "cell_type": "code",
   "execution_count": null,
   "metadata": {
    "collapsed": true,
    "tags": [
     "student"
    ]
   },
   "outputs": [],
   "source": [
    "conf_interval_exact = ...\n",
    "\n",
    "conf_interval_sim = ..."
   ]
  },
  {
   "cell_type": "code",
   "execution_count": null,
   "metadata": {
    "collapsed": true,
    "tags": [
     "test",
     "q02c"
    ]
   },
   "outputs": [],
   "source": [
    "_ = ok.grade('q02c')\n",
    "_ = ok.backup()"
   ]
  },
  {
   "cell_type": "markdown",
   "metadata": {},
   "source": [
    "## Confidence Intervals based on normal theory\n",
    "\n",
    "The central limit theorem says that the sample mean has a distribution that roughly follows the normal distribution.  The central limit theorem holds when the sample size is large in absolute terms, but small relative to the population. \n",
    "\n",
    "### Question 3\n",
    "\n",
    "If we assume that the sampling distribution of the sample average is normally distributed, then we can use this property to create a confidence interval. The sampling \n",
    "distribution of a statistic is often approximately normally distributed. \n",
    "\n",
    "For a standard normal, which is centered at 0 and has a spread of 1, we can find the percentiles with the `ppf` method of  `scipy.stats.norm`.   \n",
    "\n",
    "#### Question 3a\n",
    "\n",
    "Use `ppf` to find the 0.975 and 0.275 quantiles of the standard normal distribution."
   ]
  },
  {
   "cell_type": "code",
   "execution_count": null,
   "metadata": {
    "collapsed": true,
    "tags": [
     "student"
    ]
   },
   "outputs": [],
   "source": [
    "from scipy.stats import norm\n",
    "\n",
    "q975 = ...\n",
    "q025 = ..."
   ]
  },
  {
   "cell_type": "markdown",
   "metadata": {},
   "source": [
    "By symmetry, we know that the 2.5 percentile is the negative of the 97.5 percentile, ie., they are $-1.96$ and $1.96$.  This means that the area under the standard normal curve between $-1.96$ and $1.96$ is 95%. We can use this property to form a confidence interval for the population mean."
   ]
  },
  {
   "cell_type": "markdown",
   "metadata": {},
   "source": [
    "#### Normal Theory\n",
    "\n",
    "If $\\theta$ is the\n",
    "population mean, and we estimate it with our sample mean, $\\hat{\\theta}$, then for a simple \n",
    "random sample we know that\n",
    "\n",
    "$$\n",
    "E(\\hat{\\theta}) = \\theta\n",
    "$$\n",
    "and \n",
    "$$\n",
    "SE(\\hat{\\theta}) = \\frac{\\sigma}{\\sqrt{n}},\n",
    "$$\n",
    "where $\\sigma$ is the population SD. \n",
    "The Central Limit Theorem also says that $\\hat{\\theta}$ has a normal distribution \n",
    "(if $n$ is large enough).\n",
    "\n",
    "This means that when we standardize $\\hat{\\theta}$,\n",
    "$$ \\frac{\\hat{\\theta} - \\theta} {SE({\\hat{\\theta}})},$$\n",
    "then the standardized statistic has a standard normal distribution.\n",
    "\n",
    "We know that for the standard normal,  \n",
    "$$0.95 = {\\cal P}\\left(-1.96 \\leq \\frac{\\hat{\\theta} - \\theta} {SE({\\hat{\\theta}})} \\leq 1.96\\right)$$\n",
    "We can reararnge terms to find a confidence interval for $\\theta$\n",
    "\\begin{eqnarray*}\n",
    "0.95 &=& {\\cal P}\\left(-1.96 \\leq \\frac{\\hat{\\theta} - \\theta} {SE({\\hat{\\theta}})} \\leq 1.96\\right) \\\\\n",
    " & = & {\\cal P}\\left(-1.96 SE({\\hat{\\theta}}) \\leq {\\hat{\\theta} - \\theta} \\leq 1.96 SE({\\hat{\\theta}})\\right) \\\\\n",
    " & = & {\\cal P}\\left(\\hat{\\theta} - 1.96SE({\\hat{\\theta}}) \\leq {\\theta} \\leq \\hat{\\theta} + 1.96SE({\\hat{\\theta}})\\right) \n",
    "\\end{eqnarray*}\n",
    "\n",
    "Thus the interval $(\\hat{\\theta} - 1.96SE({\\hat{\\theta}}),\n",
    "\\hat{\\theta} + 1.96SE({\\hat{\\theta}}))$ is a 95%\n",
    "confidence interval for $\\theta$.\n",
    "\n",
    "### The $t$ approximation\n",
    "\n",
    "Often we don't know $\\sigma$, and so we can't make the confidence interval.  However, we can  use the sample SD as an estimate for $\\sigma$, i.e., $SE(\\hat{\\theta}) = \\sigma/\\sqrt{n} \\approx SD(\\texttt{sample})/\\sqrt{n}$. When we make this substitution, the distribution of the standardized statistic is no longer normal. That is, the distribution of\n",
    "$$ \\frac{\\hat{\\theta} - \\theta} {SD(\\texttt{sample})/\\sqrt{n}}$$\n",
    "follows a $t$-distribution. \n",
    "\n",
    "The $t$-distribution is actually a family of distributions. it is parameterized by the \"degrees of freedom\", which in our case is $n-1$.  The $t$-distirbution is symmetric and unimodal and looks much like the normal distribution, except the that tails are somewhat fatter. As $n$ increases, the sample SD approaches $\\sigma$, the population SD, and the tails of the $t$-distribution get less fat and converge to the normal tails.\n",
    "\n",
    "With the $t$-distribution, the 95% confidence interval becomes:\n",
    "\n",
    "$$\\left(\\hat{\\theta} + t_{0.025, n-1} \\frac{SD(\\texttt{sample})}{\\sqrt{n}}, ~~~\\hat{\\theta} + t_{0.975, n-1} \\frac {SD(\\texttt{sample})}{\\sqrt{n}}\\right)$$\n",
    "\n",
    "\n",
    "\n",
    "When bootstrapping was computationally infeasible, we relied heavily on the Central Limit Theorem to form confidence intervals for the population. Of course, an important question is whether $n$ is large enough to justify the assumption that that the CLT holds and we can treat our sample statistic as normally distributed."
   ]
  },
  {
   "cell_type": "markdown",
   "metadata": {},
   "source": [
    "#### Question 3b\n",
    "\n",
    "Find the 0.975 quantile of the $t$-distribution for various degrees of freedom. How close are they to the quantiles of the normal?"
   ]
  },
  {
   "cell_type": "code",
   "execution_count": null,
   "metadata": {
    "collapsed": true,
    "tags": [
     "student"
    ]
   },
   "outputs": [],
   "source": [
    "from scipy.stats import t\n",
    "\n",
    "degrees_of_freedom = np.array([6, 12,  24, 32, 100, 200])\n",
    "\n",
    "right_endpoint = ..."
   ]
  },
  {
   "cell_type": "code",
   "execution_count": null,
   "metadata": {
    "collapsed": true,
    "tags": [
     "test",
     "q03b"
    ]
   },
   "outputs": [],
   "source": [
    "_ = ok.grade('q03b')\n",
    "_ = ok.backup()"
   ]
  },
  {
   "cell_type": "markdown",
   "metadata": {},
   "source": [
    "#### Question 3c\n",
    "\n",
    "Use the $t$-distribution to create a 95% confidence interval for the cornea difference from Question 2. Compare the lengths of these two confidence intervals.\n",
    "\n",
    "To do this, follow the steps:\n",
    "* Find the mean and SD of the sample\n",
    "* Find the percentiles for the $t$ with $n-1$ degrees of freedom\n",
    "* Construct the confidence interval using the formula above"
   ]
  },
  {
   "cell_type": "code",
   "execution_count": null,
   "metadata": {
    "collapsed": true,
    "tags": [
     "student"
    ]
   },
   "outputs": [],
   "source": [
    "cornea_diffs_mean = ...\n",
    "cornea_diffs_sd = ...\n",
    "\n",
    "t_percentiles = ...\n",
    "\n",
    "\n",
    "conf_int_t = ..."
   ]
  },
  {
   "cell_type": "code",
   "execution_count": null,
   "metadata": {
    "collapsed": true,
    "tags": [
     "test",
     "q03c"
    ]
   },
   "outputs": [],
   "source": [
    "_ = ok.grade('q03c')\n",
    "_ = ok.backup()"
   ]
  },
  {
   "cell_type": "markdown",
   "metadata": {},
   "source": [
    "Compare the confidence interval based on the bootstrap percentile method and the one based on the $t$-distribution.  \n",
    "\n",
    "Do they have the same length? The same endpoints?"
   ]
  },
  {
   "cell_type": "markdown",
   "metadata": {},
   "source": [
    "## The Studentized Bootstrap\n",
    " \n",
    "One variation on the bootstrap confidence interval uses the approach of standardizing the\n",
    "statistic in $t$ and normal based confidence intervals.  This variation finds the bootstrap sampling distribution of the standardized statistic, i.e., we subtract the population statistic from the sample statistic and\n",
    "divide by the standard error of the sampling statistic. Then, we use the percentiles of this distribution to create the confidence interval.\n",
    "\n",
    "\n",
    "As in the case of the normal theory for the sample mean, \n",
    "if $\\theta$ is the population parameter, and we estimate $\\theta$ with our sample\n",
    "statistic $\\hat{\\theta}$, then we can create a confidence interval on the distribution of\n",
    "\n",
    "$$ \\frac{\\hat{\\theta} - \\theta} {SE({\\hat{\\theta}})}$$\n",
    "\n",
    "from the 2.5 and 97.5 percentile of the distribution of the standardized statistic.\n",
    "If $q_{0.025}$ and $q_{0.975}$ are the percentiles of this standardized staitistic, then\n",
    "\n",
    "\\begin{eqnarray*}\n",
    "0.95 &=& {\\cal P}\\left(q_{0.025} \\leq \\frac{\\hat{\\theta} - \\theta} {SE({\\hat{\\theta}})} \\leq q_{0.975}\\right) \\\\\n",
    " & = & {\\cal P}\\left(q_{0.025}SE({\\hat{\\theta}}) \\leq {\\hat{\\theta} - \\theta} \\leq q_{0.975}SE({\\hat{\\theta}})\\right) \\\\\n",
    " & = & {\\cal P}\\left(\\hat{\\theta} - q_{0.975}SE({\\hat{\\theta}}) \\leq {\\theta} \\leq \\hat{\\theta} - q_{0.025}SE({\\hat{\\theta}})\\right) \n",
    "\\end{eqnarray*}\n",
    "\n",
    "Thus the interval $(\\hat{\\theta} - q_{0.975}SE({\\hat{\\theta}}),\n",
    "\\hat{\\theta} - q_{0.025}SE({\\hat{\\theta}}))$ is a 95%\n",
    "confidence interval for $\\theta$.\n",
    "\n",
    "Note that we have not used any normal theory or central limit theorem here. We have simply created a confidence interval based on the sampling distribution of the studentized statistic.\n",
    "\n",
    "We can use the bootstrap to estimate the sampling distribution of the\n",
    "studentized statistic.  That is, for each bootstrap sample, we compute the\n",
    "bootstrap statistic, $\\hat{\\theta}^*$,\n",
    "and the bootstrap standard error of this statistic,\n",
    "$SE^*(\\hat{\\theta}^*)$ and use these to\n",
    "construct the studentized statistic,\n",
    "\n",
    "$$ \\frac{\\hat{\\theta}^* - {\\hat{\\theta}}} {SE({\\hat{\\theta}}^*)}$$\n",
    "\n",
    "We estimate $q_{0.025}$ and $q_{0.975}$ from these bootstrap replicates. \n",
    "Depending on the form of $\\hat{\\theta}$, its standard error\n",
    "can be approximated by a simple function of the sample, and\n",
    "consequently, the standard error of the bootstrap statistic,\n",
    "$\\hat{\\theta}^*$, can be approximated\n",
    "by a simple function of the bootstrap sample. \n",
    "\n",
    "One example is the mean. Recall that the standard error of the sample mean\n",
    "is $\\sigma / {\\sqrt{n}}$, where\n",
    "$\\sigma$ is the standard deviation of\n",
    "the population, which we approximate by the standard deviation\n",
    "of the sample. This implies that we can approximate the standard error\n",
    "of the bootstrap sample mean with $SD^* /\n",
    "{\\sqrt{n}}$, where\n",
    "$SD^*$ is the standard deviation of\n",
    "the bootstrap sample. Other times, we don't have a simple format for\n",
    "the standard error and we need an alternative method of\n",
    "approximation. \n",
    "\n",
    "You will apply this approach to find a studentized bootstrap confidence interval with\n",
    "data collected for estimating the typical repair times for a population of customers."
   ]
  },
  {
   "cell_type": "markdown",
   "metadata": {},
   "source": [
    "### Question 4 - Average Repair Time\n",
    "\n",
    "The New York Public Utilities Commission monitors the response time\n",
    "for repairing land-line phone service in the state.  These repair\n",
    "times may differ over the year and according to the type of repair.\n",
    "We have repair times for one class of repairs at one time period.  The\n",
    "commission is interested in estimates of the average repair time.\n",
    "\n",
    "#### Question 4a\n",
    "\n",
    "Read in the data provided in `data/ilec.csv`."
   ]
  },
  {
   "cell_type": "code",
   "execution_count": null,
   "metadata": {
    "collapsed": true,
    "tags": [
     "student"
    ]
   },
   "outputs": [],
   "source": [
    "# read the data from data/ilec.csv\n",
    "repair = ..."
   ]
  },
  {
   "cell_type": "markdown",
   "metadata": {},
   "source": [
    "#### Question 4b\n",
    "\n",
    "Before making any estimates of average repair time, we examine the\n",
    "data values.  Make a histogram of the logarithm of repair time. When taking logs, use base 10. When there are 0 values, we often add 1 before taking the log. "
   ]
  },
  {
   "cell_type": "code",
   "execution_count": null,
   "metadata": {
    "collapsed": true,
    "tags": [
     "student"
    ]
   },
   "outputs": [],
   "source": [
    "# plot a histogram of a log-transform of 1 + the repair time "
   ]
  },
  {
   "cell_type": "markdown",
   "metadata": {},
   "source": [
    "We see that there is a spike at 0, which indicates that\n",
    "many repairs happen immediately. We also see two modes (not counting the spike).\n",
    "The second mode is centered at $\\log(1 + 24)$, which indicates that many repairs occur then next day. Additionally, the distribution is skewed right with a long tail indicating that \n",
    "a few repairs take a long time."
   ]
  },
  {
   "cell_type": "markdown",
   "metadata": {},
   "source": [
    "#### Question 4c - Ordinary Bootstrap for the Sample Mean\n",
    "\n",
    "Given that the sample size is well over 1500, we imagine that\n",
    "the Central Limit Theorem (CLT) could well have taken\n",
    "effect and the distribution of the normalized sample mean will be very\n",
    "close to the normal.\n",
    "\n",
    "Use your `bootstrap` function to estimate the bootstrap sampling distribution of the (upper trimmed) sample mean. Use 10,000 replicates."
   ]
  },
  {
   "cell_type": "code",
   "execution_count": null,
   "metadata": {
    "collapsed": true,
    "tags": [
     "student"
    ]
   },
   "outputs": [],
   "source": [
    "boot_means = ... "
   ]
  },
  {
   "cell_type": "code",
   "execution_count": null,
   "metadata": {
    "collapsed": true,
    "tags": [
     "test",
     "q04c"
    ]
   },
   "outputs": [],
   "source": [
    "_ = ok.grade('q04c')\n",
    "_ = ok.backup()"
   ]
  },
  {
   "cell_type": "markdown",
   "metadata": {
    "collapsed": true
   },
   "source": [
    "Make a histogram of the bootstrapped upper trimmed means."
   ]
  },
  {
   "cell_type": "code",
   "execution_count": null,
   "metadata": {
    "collapsed": true
   },
   "outputs": [],
   "source": [
    "plt.figure(figsize=(10,6))\n",
    "plt.hist(boot_means, bins = 50)\n",
    "plt.xlabel(\"Bootstrap Distribution of the Mean (10,000 Replicates)\")\n",
    "plt.show()"
   ]
  },
  {
   "cell_type": "markdown",
   "metadata": {},
   "source": [
    "#### Question 4d\n",
    "\n",
    "Find the 95% bootstrapped confidence interval using the percentiles of `boot_up_means` from part d. Your answer should be a length $2$-tuple as in 2c."
   ]
  },
  {
   "cell_type": "code",
   "execution_count": null,
   "metadata": {
    "collapsed": true,
    "tags": [
     "student"
    ]
   },
   "outputs": [],
   "source": [
    "conf_interval_endpoints = ..."
   ]
  },
  {
   "cell_type": "code",
   "execution_count": null,
   "metadata": {
    "collapsed": true,
    "tags": [
     "test",
     "q04d"
    ]
   },
   "outputs": [],
   "source": [
    "_ = ok.grade('q04d')\n",
    "_ = ok.backup()"
   ]
  },
  {
   "cell_type": "markdown",
   "metadata": {},
   "source": [
    "#### Question 4e\n",
    "\n",
    "Estimate the bootstrap sampling distribution of the studentized sample mean. Use 10,000 replicates and store the results in `boot_stu_means`.\n",
    "\n",
    "You will probably want to create a new function to compute the studentized statistic. To calculate the statistic:\n",
    "* Take the mean of the bootstrap sample\n",
    "* Center the mean by subtracting the mean of the original sample (bootstrap population)\n",
    "* Scale the statistic by the SD of the bootstrap sample divided by the square-root of the length of the bootstrap sample \n"
   ]
  },
  {
   "cell_type": "code",
   "execution_count": null,
   "metadata": {
    "collapsed": true,
    "tags": [
     "student"
    ]
   },
   "outputs": [],
   "source": [
    "boot_stu_means = ..."
   ]
  },
  {
   "cell_type": "code",
   "execution_count": null,
   "metadata": {
    "collapsed": true,
    "tags": [
     "test",
     "q04e"
    ]
   },
   "outputs": [],
   "source": [
    "_ = ok.grade('q04e')\n",
    "_ = ok.backup()"
   ]
  },
  {
   "cell_type": "markdown",
   "metadata": {},
   "source": [
    "#### Question 4f\n",
    "\n",
    "Make a histogram of the bootstrap replicates of the studentized statistic. It should have a center near 0."
   ]
  },
  {
   "cell_type": "code",
   "execution_count": null,
   "metadata": {
    "collapsed": true,
    "tags": [
     "student"
    ]
   },
   "outputs": [],
   "source": [
    "# create histogram plot here"
   ]
  },
  {
   "cell_type": "markdown",
   "metadata": {},
   "source": [
    "#### Question 4g\n",
    "\n",
    "Create a confidence interval for the orginal theta (the mean of the population) based on the bootstrap sampling distribution of the studentized statistic.\n"
   ]
  },
  {
   "cell_type": "code",
   "execution_count": null,
   "metadata": {
    "collapsed": true,
    "tags": [
     "student"
    ]
   },
   "outputs": [],
   "source": [
    "conf_int_stu_endpoints  = ..."
   ]
  },
  {
   "cell_type": "markdown",
   "metadata": {},
   "source": [
    "How does the studentized bootstrap compare to the ordinary bootstrap?\n",
    "Compare the distance from the sample mean to the endpoints of confidence intervals.\n",
    "Notice the skewness in the intervals; the sample mean is not in the center of the distribution."
   ]
  },
  {
   "cell_type": "code",
   "execution_count": null,
   "metadata": {
    "collapsed": true,
    "tags": [
     "test",
     "q04g"
    ]
   },
   "outputs": [],
   "source": [
    "_ = ok.grade('q04g')\n",
    "_ = ok.backup()"
   ]
  },
  {
   "cell_type": "markdown",
   "metadata": {},
   "source": [
    "## Bootstrapping for Other Designs\n",
    "\n",
    "One important perspective on the bootstrap comes from the *plug-in principle*. We would like to sample repeatedly from the population to assess the accuracy of some statistic, but we only have one sample. So instead, we treat the sample as our bootstrap population and resample from it as much as we care to. The core assumption is that our sample is representative of the population; similarly, our bootstrap resampling scheme should resemble the scheme we used to obtain our sample.\n",
    "\n",
    "### Question 5 - Napa Valley Marathon Times\n",
    "\n",
    "In this problem, we consider the results of the $1882$ runners in the Napa Valley Marathon. The data frame provided in `data/napa_sample.csv` is a stratified random sample of this population. Recall in stratified sampling, we divide our population into disjoint *strata*, and obtain a simple random sample from each stratum. Our sample consists of $4$ strata--the top $100$ female runners, the top $100$ male runners, the remaining $805$ female runners, and the remaining $877$ male runners (respectively). \n",
    "\n",
    "#### Question 5a\n",
    "\n",
    "Read in the data provided in `data/napa_sample.csv`."
   ]
  },
  {
   "cell_type": "code",
   "execution_count": null,
   "metadata": {
    "collapsed": true,
    "tags": [
     "student"
    ]
   },
   "outputs": [],
   "source": [
    "napa = ..."
   ]
  },
  {
   "cell_type": "markdown",
   "metadata": {},
   "source": [
    "#### Question 5b\n",
    "\n",
    "Since the bootstrap function requires a numpy array, extract a numpy array of times from the `napa` dataframe."
   ]
  },
  {
   "cell_type": "code",
   "execution_count": null,
   "metadata": {
    "collapsed": true,
    "tags": [
     "student"
    ]
   },
   "outputs": [],
   "source": [
    "times = ..."
   ]
  },
  {
   "cell_type": "markdown",
   "metadata": {},
   "source": [
    "#### Question 5c\n",
    "\n",
    "Compare two sample averages, one that ignores the sampling procedure and the\n",
    "other that takes the design into consideration:\n",
    "\n",
    "* Calculate the average value of `times` and record the value in `sample_avg`.\n",
    "* Next, calculate the mean race time within each stratum, and combine these in a weighted average, where the weights are according to the population strata sizes. That is, $100,100,805,$ and $877$ are the sizes for strata $1,2,3,$ and $4$, respectively. \n",
    "\n",
    "Compare the two methods of estimating the population mean."
   ]
  },
  {
   "cell_type": "code",
   "execution_count": null,
   "metadata": {
    "collapsed": true,
    "tags": [
     "student"
    ]
   },
   "outputs": [],
   "source": [
    "sample_avg = ...\n",
    "\n",
    "pop_strata_prop = np.array([100,100,805,877]) / 1882\n",
    "weighted_sample_avg = ..."
   ]
  },
  {
   "cell_type": "code",
   "execution_count": null,
   "metadata": {
    "collapsed": true,
    "tags": [
     "test",
     "q05c"
    ]
   },
   "outputs": [],
   "source": [
    "_ = ok.grade('q05c')\n",
    "_ = ok.backup()"
   ]
  },
  {
   "cell_type": "markdown",
   "metadata": {},
   "source": [
    "Compare these two sample averages. \n",
    "Which do you think is a good estimate of the population average?\n",
    "\n",
    "The stratified sample, sampled the top 100 male and female runners at a 30% rate while the rest of the runners were sampled at about a 5% rate. This means that the fastest runners are over-represented in our sample. WE must account for this sampling design in our analysis. "
   ]
  },
  {
   "cell_type": "markdown",
   "metadata": {},
   "source": [
    "#### Question 5d\n",
    "\n",
    "We must also account for this sampling design in our bootstrapping. Compare the sampling\n",
    "distribution when we ignore the design and when we take it into consideration.\n",
    "\n",
    "* Create a variable called `b_simple` with $10000$ bootstrap replicates from the `times` data, with the mean computed on each replicate. This bootstrap procedure ignores how the sample was obtained.\n",
    "\n",
    "\n",
    "* Next, create a variable called `b_strata` with $10000$ bootstrap replicates from the `times` data, with the statistic being the weighted mean as in 4c and the resampling procedure being sampling with replacement from each stratum. That is,\n",
    "    * For each bootstrap replicate, take 4 simple random samples\n",
    "    * Sample 30 times from strata 1, 30 from strata 2, etc.\n",
    "    * Combine the sample from the 4 strata to create the bootstrap weighted average\n",
    "    \n",
    "Use your original `bootstrap` function for both bootstrapping procedures. In the stratified case, you will want to create a new sampling function and a new statistic for calculating the weighted average.\n"
   ]
  },
  {
   "cell_type": "code",
   "execution_count": null,
   "metadata": {
    "collapsed": true,
    "tags": [
     "student"
    ]
   },
   "outputs": [],
   "source": [
    "strata = np.array(napa[\"stratum\"])\n",
    "\n",
    "\n",
    "\n",
    "\n",
    "b_simple = ...\n",
    "\n",
    "b_strata = ..."
   ]
  },
  {
   "cell_type": "code",
   "execution_count": null,
   "metadata": {
    "collapsed": true,
    "tags": [
     "test",
     "q05d"
    ]
   },
   "outputs": [],
   "source": [
    "_ = ok.grade('q05d')\n",
    "_ = ok.backup()"
   ]
  },
  {
   "cell_type": "markdown",
   "metadata": {},
   "source": [
    "#### Question 5e\n",
    "\n",
    "The average marathon time of the population was $4.3608$. Compare the bootstrap distributions for these two approaches by plotting their histograms along with the population mean. "
   ]
  },
  {
   "cell_type": "code",
   "execution_count": null,
   "metadata": {
    "collapsed": true,
    "tags": [
     "student"
    ]
   },
   "outputs": [],
   "source": [
    "# plot histogram here"
   ]
  },
  {
   "cell_type": "markdown",
   "metadata": {},
   "source": [
    "Notice that the bootstrap that takes the sampling process into consideration yields a sampling distribution that is centered close to the population average and that has a smaller standard error.  A confidence interval based on the typical bootstrap procedure would miss the population average. Ignoring the design, can give very poor results."
   ]
  },
  {
   "cell_type": "markdown",
   "metadata": {},
   "source": [
    "## Submission\n",
    "\n",
    "Run the cell below to run all the OkPy tests at once:"
   ]
  },
  {
   "cell_type": "code",
   "execution_count": null,
   "metadata": {
    "collapsed": true
   },
   "outputs": [],
   "source": [
    "import os\n",
    "print(\"Running all tests...\")\n",
    "_ = [ok.grade(q[:-3]) for q in os.listdir(\"ok_tests\") if q.startswith('q')]"
   ]
  },
  {
   "cell_type": "markdown",
   "metadata": {},
   "source": [
    "Now, run the cell below to submit your assignment to OkPy. The autograder should email you shortly with your autograded score. The autograder will only run once every 30 minutes.\n",
    "\n",
    "**If you're failing tests on the autograder but pass them locally**, you should simulate the autograder by doing the following:\n",
    "\n",
    "1. In the top menu, click Kernel -> Restart and Run all.\n",
    "2. Run the cell above to run each OkPy test.\n",
    "\n",
    "**You must make sure that you pass all the tests when running steps 1 and 2 in order.** If you are still failing autograder tests, you should double check your results."
   ]
  },
  {
   "cell_type": "code",
   "execution_count": null,
   "metadata": {
    "collapsed": true
   },
   "outputs": [],
   "source": [
    "_ = ok.submit()"
   ]
  }
 ],
 "metadata": {
  "anaconda-cloud": {},
  "kernelspec": {
   "display_name": "Python 3",
   "language": "python",
   "name": "python3"
  },
  "language_info": {
   "codemirror_mode": {
    "name": "ipython",
    "version": 3
   },
   "file_extension": ".py",
   "mimetype": "text/x-python",
   "name": "python",
   "nbconvert_exporter": "python",
   "pygments_lexer": "ipython3",
   "version": "3.6.1"
  }
 },
 "nbformat": 4,
 "nbformat_minor": 2
}
